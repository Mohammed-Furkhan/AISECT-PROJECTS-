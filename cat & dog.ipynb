{
 "cells": [
  {
   "cell_type": "code",
   "execution_count": 1,
   "id": "f76d8c3a-ffb7-490f-a7f3-a3a3ded2a57c",
   "metadata": {},
   "outputs": [],
   "source": [
    "import os \n",
    "import tensorflow as tf\n",
    "from tensorflow.keras.preprocessing.image import ImageDataGenerator\n",
    "from tensorflow.keras.models import Sequential\n",
    "from tensorflow.keras.layers import Dense, Flatten, Dropout\n",
    "import matplotlib.pyplot as plt"
   ]
  },
  {
   "cell_type": "code",
   "execution_count": 2,
   "id": "a25e642b-dd5f-46c1-b673-0114f0cb50e0",
   "metadata": {},
   "outputs": [],
   "source": [
    "dataset_dir = r\"C:\\Users\\FURKHAN\\Downloads\\cat & dog dataset\""
   ]
  },
  {
   "cell_type": "code",
   "execution_count": 3,
   "id": "acccb28b-792b-4d77-8cf4-b67ce49d3157",
   "metadata": {},
   "outputs": [
    {
     "data": {
      "text/plain": [
       "'C:\\\\Users\\\\FURKHAN\\\\Downloads\\\\cat & dog dataset'"
      ]
     },
     "execution_count": 3,
     "metadata": {},
     "output_type": "execute_result"
    }
   ],
   "source": [
    "dataset_dir"
   ]
  },
  {
   "cell_type": "code",
   "execution_count": 4,
   "id": "a3aab113-eea4-4f35-8cde-117f4c1bbf7c",
   "metadata": {},
   "outputs": [],
   "source": [
    "datagen = ImageDataGenerator(\n",
    "    rescale=1./255,\n",
    "    validation_split=0.2  # 80% train, 20% validation\n",
    ")"
   ]
  },
  {
   "cell_type": "code",
   "execution_count": 5,
   "id": "dce577da-a62a-43a0-a8b6-bd04d78e62cb",
   "metadata": {},
   "outputs": [
    {
     "name": "stdout",
     "output_type": "stream",
     "text": [
      "Found 800 images belonging to 2 classes.\n"
     ]
    }
   ],
   "source": [
    "train_set = datagen.flow_from_directory(\n",
    "    dataset_dir,\n",
    "    target_size=(64, 64),\n",
    "    batch_size=32,\n",
    "    class_mode='binary',    # since it's 2 classes\n",
    "    subset='training'\n",
    ")"
   ]
  },
  {
   "cell_type": "code",
   "execution_count": 6,
   "id": "32ff2c60-5f82-4131-a5c2-2f328dd148c5",
   "metadata": {},
   "outputs": [
    {
     "name": "stdout",
     "output_type": "stream",
     "text": [
      "Found 200 images belonging to 2 classes.\n"
     ]
    }
   ],
   "source": [
    "val_set = datagen.flow_from_directory(\n",
    "    dataset_dir,\n",
    "    target_size=(64, 64),\n",
    "    batch_size=32,\n",
    "    class_mode='binary',\n",
    "    subset='validation'\n",
    ")"
   ]
  },
  {
   "cell_type": "code",
   "execution_count": 10,
   "id": "3363a3ed-384d-4c89-b516-4f078303dfa1",
   "metadata": {},
   "outputs": [],
   "source": [
    "model = Sequential([\n",
    "    Flatten(input_shape=(64, 64, 3)),\n",
    "    Dense(128, activation='relu'),\n",
    "    Dropout(0.3),\n",
    "    Dense(64, activation='relu'),\n",
    "    Dense(1, activation='softmax')  # binary classification\n",
    "])"
   ]
  },
  {
   "cell_type": "code",
   "execution_count": 11,
   "id": "5370018c-7cf4-41df-bfa0-13e7b1903463",
   "metadata": {},
   "outputs": [],
   "source": [
    "model.compile(optimizer='adam',\n",
    "              loss='binary_crossentropy',\n",
    "              metrics=['accuracy'])"
   ]
  },
  {
   "cell_type": "code",
   "execution_count": 12,
   "id": "fe706abb-7a1f-4bbf-a5f6-ab768cff38d7",
   "metadata": {},
   "outputs": [
    {
     "name": "stdout",
     "output_type": "stream",
     "text": [
      "Epoch 1/15\n",
      "25/25 [==============================] - 8s 230ms/step - loss: 1.2898 - accuracy: 0.5000 - val_loss: 1.0789 - val_accuracy: 0.5000\n",
      "Epoch 2/15\n",
      "25/25 [==============================] - 4s 165ms/step - loss: 0.8353 - accuracy: 0.5000 - val_loss: 0.7759 - val_accuracy: 0.5000\n",
      "Epoch 3/15\n",
      "25/25 [==============================] - 4s 163ms/step - loss: 0.7867 - accuracy: 0.5000 - val_loss: 0.7224 - val_accuracy: 0.5000\n",
      "Epoch 4/15\n",
      "25/25 [==============================] - 4s 162ms/step - loss: 0.7509 - accuracy: 0.5000 - val_loss: 0.7018 - val_accuracy: 0.5000\n",
      "Epoch 5/15\n",
      "25/25 [==============================] - 4s 163ms/step - loss: 0.7240 - accuracy: 0.5000 - val_loss: 0.7191 - val_accuracy: 0.5000\n",
      "Epoch 6/15\n",
      "25/25 [==============================] - 4s 160ms/step - loss: 0.7082 - accuracy: 0.5000 - val_loss: 0.6923 - val_accuracy: 0.5000\n",
      "Epoch 7/15\n",
      "25/25 [==============================] - 5s 193ms/step - loss: 0.6891 - accuracy: 0.5000 - val_loss: 0.6988 - val_accuracy: 0.5000\n",
      "Epoch 8/15\n",
      "25/25 [==============================] - 6s 237ms/step - loss: 0.6851 - accuracy: 0.5000 - val_loss: 0.6978 - val_accuracy: 0.5000\n",
      "Epoch 9/15\n",
      "25/25 [==============================] - 5s 189ms/step - loss: 0.6754 - accuracy: 0.5000 - val_loss: 0.7070 - val_accuracy: 0.5000\n",
      "Epoch 10/15\n",
      "25/25 [==============================] - 5s 193ms/step - loss: 0.6851 - accuracy: 0.5000 - val_loss: 0.7120 - val_accuracy: 0.5000\n",
      "Epoch 11/15\n",
      "25/25 [==============================] - 5s 205ms/step - loss: 0.6894 - accuracy: 0.5000 - val_loss: 0.6944 - val_accuracy: 0.5000\n",
      "Epoch 12/15\n",
      "25/25 [==============================] - 5s 191ms/step - loss: 0.6900 - accuracy: 0.5000 - val_loss: 0.6940 - val_accuracy: 0.5000\n",
      "Epoch 13/15\n",
      "25/25 [==============================] - 6s 226ms/step - loss: 0.6826 - accuracy: 0.5000 - val_loss: 0.6989 - val_accuracy: 0.5000\n",
      "Epoch 14/15\n",
      "25/25 [==============================] - 5s 180ms/step - loss: 0.6824 - accuracy: 0.5000 - val_loss: 0.6955 - val_accuracy: 0.5000\n",
      "Epoch 15/15\n",
      "25/25 [==============================] - 5s 198ms/step - loss: 0.6855 - accuracy: 0.5000 - val_loss: 0.6977 - val_accuracy: 0.5000\n"
     ]
    }
   ],
   "source": [
    "history = model.fit(\n",
    "    train_set,\n",
    "    validation_data=val_set,\n",
    "    epochs=15\n",
    ")"
   ]
  },
  {
   "cell_type": "code",
   "execution_count": null,
   "id": "82e50501-a7af-40c5-bb32-3150fbd35e16",
   "metadata": {},
   "outputs": [],
   "source": [
    "loss, acc = model.evaluate(val_set)\n",
    "print(f\"Validation Accuracy: {acc*100:.2f}%\")"
   ]
  },
  {
   "cell_type": "code",
   "execution_count": null,
   "id": "aa4023c0-0aa3-4e40-93f5-4b0d6642cb35",
   "metadata": {},
   "outputs": [],
   "source": [
    "plt.figure(figsize=(12,5))"
   ]
  },
  {
   "cell_type": "code",
   "execution_count": null,
   "id": "a37e1ce5-68c2-4f82-a8c4-6b22ec8dd2eb",
   "metadata": {},
   "outputs": [],
   "source": [
    "plt.subplot(1,2,1)\n",
    "plt.plot(history.history['accuracy'], label='Train Acc')\n",
    "plt.plot(history.history['val_accuracy'], label='Val Acc')\n",
    "plt.legend()\n",
    "plt.title(\"Accuracy\")"
   ]
  },
  {
   "cell_type": "code",
   "execution_count": null,
   "id": "5368f09b-a4f3-4077-95e0-3673bae4573e",
   "metadata": {},
   "outputs": [],
   "source": [
    "plt.subplot(1,2,2)\n",
    "plt.plot(history.history['loss'], label='Train Loss')\n",
    "plt.plot(history.history['val_loss'], label='Val Loss')\n",
    "plt.legend()\n",
    "plt.title(\"Loss\")\n",
    "\n",
    "plt.show()"
   ]
  },
  {
   "cell_type": "code",
   "execution_count": null,
   "id": "11c7d12b-344d-4080-a1d4-31c9fbdffde0",
   "metadata": {},
   "outputs": [],
   "source": []
  }
 ],
 "metadata": {
  "kernelspec": {
   "display_name": "Python (DL)",
   "language": "python",
   "name": "dl"
  },
  "language_info": {
   "codemirror_mode": {
    "name": "ipython",
    "version": 3
   },
   "file_extension": ".py",
   "mimetype": "text/x-python",
   "name": "python",
   "nbconvert_exporter": "python",
   "pygments_lexer": "ipython3",
   "version": "3.10.18"
  }
 },
 "nbformat": 4,
 "nbformat_minor": 5
}
